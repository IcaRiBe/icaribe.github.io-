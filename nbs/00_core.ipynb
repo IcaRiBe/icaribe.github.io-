{
 "cells": [
  {
   "cell_type": "code",
   "execution_count": null,
   "metadata": {},
   "outputs": [],
   "source": [
    "# default_exp core"
   ]
  },
  {
   "cell_type": "markdown",
   "metadata": {},
   "source": [
    "# DivisionIntervalos\n",
    "\n",
    "> Recibe:\n",
    "> - a: extremo izquierdo del intervalo.\n",
    "> - b: extremo derecho del intervalo.\n",
    "> - epsilon: la presición requerida.\n",
    ">\n",
    ">Devuelve:\n",
    "> - a: extremo izquierdo del intervalo conel mínimo encontrado.\n",
    "> - b: extremo derecho del intervalo conel mínimo encontrado."
   ]
  },
  {
   "cell_type": "code",
   "execution_count": null,
   "metadata": {},
   "outputs": [],
   "source": [
    "#hide\n",
    "from nbdev.showdoc import *"
   ]
  },
  {
   "cell_type": "code",
   "execution_count": null,
   "metadata": {},
   "outputs": [],
   "source": [
    "#exports\n",
    "def DivisionIntervalos(a, b, epsilon):\n",
    "    def f(x):\n",
    "        return x**2 +54/(x+10)\n",
    "    \n",
    "    xm = (a+b)/2.\n",
    "    L = b-a\n",
    "    \n",
    "    evalxm = f(xm)\n",
    "    \n",
    "    evalF = 1\n",
    "    \n",
    "    while abs(L) > epsilon:        \n",
    "        x1 = a+L/4.\n",
    "        x2 = b-L/4.\n",
    "        evalx1 = f(x1)\n",
    "        evalF += 1\n",
    "        \n",
    "        if evalx1 < evalxm:\n",
    "            b, xm = xm, x1\n",
    "            evalxm = evalx1\n",
    "        else:\n",
    "            # Si se evalua f(x2) hasta este punto, se ahorran varias evaluaciones al no entrar a esta parte del if\n",
    "            evalx2 = f(x2)\n",
    "            evalF += 1\n",
    "            if evalx2 < evalxm:\n",
    "                a, xm = xm, x2\n",
    "                evalxm = evalx2\n",
    "            else:\n",
    "                a, b = x1, x2\n",
    "        L = b-a\n",
    "        \n",
    "    sol1 = \"{0:.3f}\".format(a)\n",
    "    sol2 = \"{0:.3f}\".format(b)\n",
    "    print(f\"({sol1},{sol2})\")\n",
    "    print(evalF)"
   ]
  }
 ],
 "metadata": {
  "kernelspec": {
   "display_name": "Python 3",
   "language": "python",
   "name": "python3"
  },
  "language_info": {
   "codemirror_mode": {
    "name": "ipython",
    "version": 3
   },
   "file_extension": ".py",
   "mimetype": "text/x-python",
   "name": "python",
   "nbconvert_exporter": "python",
   "pygments_lexer": "ipython3",
   "version": "3.7.4"
  }
 },
 "nbformat": 4,
 "nbformat_minor": 2
}
