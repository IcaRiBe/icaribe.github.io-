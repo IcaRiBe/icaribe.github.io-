{
 "cells": [
  {
   "cell_type": "code",
   "execution_count": null,
   "metadata": {},
   "outputs": [],
   "source": [
    "#hide\n",
    "from your_lib.core import *"
   ]
  },
  {
   "cell_type": "markdown",
   "metadata": {},
   "source": [
    "# Mi primer cosa en nbdev\n",
    "\n",
    "> División de Intervalos por la Mitad implementacion de Optimización.\n",
    ">\n",
    "> Tarea de la clase de Redes Neuronales II donded se nos pidió usar por primera vez nbdev.\n",
    ">\n",
    "> Hago implementación del método División de Intervalos por la Mitad que funciona en funciones unimodales para encontrar un mínimo local."
   ]
  },
  {
   "cell_type": "markdown",
   "metadata": {},
   "source": [
    "## Install"
   ]
  },
  {
   "cell_type": "markdown",
   "metadata": {},
   "source": [
    "`pip install optimizacion`"
   ]
  },
  {
   "cell_type": "markdown",
   "metadata": {},
   "source": [
    "## How to use"
   ]
  },
  {
   "cell_type": "code",
   "execution_count": null,
   "metadata": {},
   "outputs": [],
   "source": [
    "def f(x):\n",
    "     return x**2 +54/(x+10)"
   ]
  },
  {
   "cell_type": "code",
   "execution_count": null,
   "metadata": {},
   "outputs": [],
   "source": [
    "def DivisionIntervalos(a, b, epsilon):\n",
    "    xm = (a+b)/2.\n",
    "    L = b-a\n",
    "    \n",
    "    evalxm = f(xm)\n",
    "    \n",
    "    while abs(L) > epsilon:        \n",
    "        x1 = a+L/4.\n",
    "        x2 = b-L/4.\n",
    "        evalx1 = f(x1)\n",
    "        \n",
    "        if evalx1 < evalxm:\n",
    "            b, xm = xm, x1\n",
    "            evalxm = evalx1\n",
    "        else:\n",
    "            # Si se evalua f(x2) hasta este punto, se ahorran varias evaluaciones al no entrar a esta parte del if\n",
    "            evalx2 = f(x2)\n",
    "            if evalx2 < evalxm:\n",
    "                a, xm = xm, x2\n",
    "                evalxm = evalx2\n",
    "            else:\n",
    "                a, b = x1, x2\n",
    "        L = b-a\n",
    "        \n",
    "    sol1 = \"{0:.3f}\".format(a)\n",
    "    sol2 = \"{0:.3f}\".format(b)\n",
    "    print(f\"({sol1},{sol2})\")\n",
    "    return a, b"
   ]
  },
  {
   "cell_type": "code",
   "execution_count": null,
   "metadata": {},
   "outputs": [
    {
     "name": "stdout",
     "output_type": "stream",
     "text": [
      "(0.250,0.259)\n"
     ]
    }
   ],
   "source": [
    "x1, x2 = DivisionIntervalos(-9,9,0.01)"
   ]
  },
  {
   "cell_type": "markdown",
   "metadata": {},
   "source": [
    "Así luce el resultado (azul) con la función original (verde)."
   ]
  },
  {
   "cell_type": "code",
   "execution_count": null,
   "metadata": {},
   "outputs": [],
   "source": [
    "import matplotlib.pyplot as plt"
   ]
  },
  {
   "cell_type": "code",
   "execution_count": null,
   "metadata": {},
   "outputs": [
    {
     "data": {
      "image/png": "[encoded data removed]",
      "text/plain": [
       "<Figure size 432x288 with 1 Axes>"
      ]
     },
     "metadata": {
      "needs_background": "light"
     },
     "output_type": "display_data"
    }
   ],
   "source": [
    "evaluados = [f(i/1000) for i in range(240, 270, 1)]\n",
    "x = [i/1000 for i in range(240, 270, 1)]\n",
    "\n",
    "plt.plot(x,evaluados, color=\"g\")\n",
    "plt.plot([x1,x2],[f(x1),f(x2)],color= 'b')\n",
    "plt.title(\"x**2 +54/(x+10)\")\n",
    "plt.show()"
   ]
  },
  {
   "cell_type": "code",
   "execution_count": null,
   "metadata": {},
   "outputs": [],
   "source": []
  }
 ],
 "metadata": {
  "kernelspec": {
   "display_name": "Python 3",
   "language": "python",
   "name": "python3"
  },
  "language_info": {
   "codemirror_mode": {
    "name": "ipython",
    "version": 3
   },
   "file_extension": ".py",
   "mimetype": "text/x-python",
   "name": "python",
   "nbconvert_exporter": "python",
   "pygments_lexer": "ipython3",
   "version": "3.7.4"
  }
 },
 "nbformat": 4,
 "nbformat_minor": 2
}
